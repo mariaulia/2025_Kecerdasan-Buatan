{
  "nbformat": 4,
  "nbformat_minor": 0,
  "metadata": {
    "colab": {
      "provenance": [],
      "authorship_tag": "ABX9TyNCLtkZxoZY8d5g8WJnqxGN",
      "include_colab_link": true
    },
    "kernelspec": {
      "name": "python3",
      "display_name": "Python 3"
    },
    "language_info": {
      "name": "python"
    }
  },
  "cells": [
    {
      "cell_type": "markdown",
      "metadata": {
        "id": "view-in-github",
        "colab_type": "text"
      },
      "source": [
        "<a href=\"https://colab.research.google.com/github/mariaulia/2025_Kecerdasan-Buatan/blob/main/Jobsheet8_KB.ipynb\" target=\"_parent\"><img src=\"https://colab.research.google.com/assets/colab-badge.svg\" alt=\"Open In Colab\"/></a>"
      ]
    },
    {
      "cell_type": "markdown",
      "source": [
        "#JOBSHEET 8: Supervise Learning Regression dan Classification\n"
      ],
      "metadata": {
        "id": "Om4qhM3sMGNy"
      }
    },
    {
      "cell_type": "markdown",
      "source": [
        "##Decision Tree (Pohon Keputusan)"
      ],
      "metadata": {
        "id": "LRt__laNNkAC"
      }
    },
    {
      "cell_type": "code",
      "execution_count": null,
      "metadata": {
        "colab": {
          "base_uri": "https://localhost:8080/"
        },
        "id": "S0dAOTrvHinT",
        "outputId": "c8a4cfb7-9cb2-4ed6-8179-c38aea76f398"
      },
      "outputs": [
        {
          "output_type": "stream",
          "name": "stdout",
          "text": [
            "<class 'pandas.core.frame.DataFrame'>\n",
            "RangeIndex: 150 entries, 0 to 149\n",
            "Data columns (total 6 columns):\n",
            " #   Column         Non-Null Count  Dtype  \n",
            "---  ------         --------------  -----  \n",
            " 0   Id             150 non-null    int64  \n",
            " 1   SepalLengthCm  150 non-null    float64\n",
            " 2   SepalWidthCm   150 non-null    float64\n",
            " 3   PetalLengthCm  150 non-null    float64\n",
            " 4   PetalWidthCm   150 non-null    float64\n",
            " 5   Species        150 non-null    object \n",
            "dtypes: float64(4), int64(1), object(1)\n",
            "memory usage: 7.2+ KB\n",
            "Accuracy:  0.933\n"
          ]
        }
      ],
      "source": [
        "import pandas as pd\n",
        "\n",
        "# Membaca file iris.csv\n",
        "iris = pd.read_csv('Iris.csv')\n",
        "\n",
        "# Melihat informasi dataset\n",
        "iris.info()\n",
        "\n",
        "# melihat informasi dataset pada 5 baris pertama\n",
        "iris.head()\n",
        "\n",
        "# menghilangkan kolom yang tidak penting\n",
        "iris.drop('Id',axis=1,inplace=True)\n",
        "# memisahkan atribut dan label\n",
        "X = iris[['SepalLengthCm', 'SepalWidthCm', 'PetalLengthCm', 'PetalWidthCm' ]]\n",
        "y = iris['Species']\n",
        "\n",
        "# Membagi dataset menjadi data latih & data uji\n",
        "from sklearn.model_selection import train_test_split\n",
        "X_train, X_test, y_train, y_test = train_test_split(X, y, test_size=0.1, random_state=123)\n",
        "\n",
        "from sklearn.tree import DecisionTreeClassifier\n",
        "\n",
        "# membuat model Decision Tree\n",
        "tree_model = DecisionTreeClassifier()\n",
        "\n",
        "# Melatih model dengan menggunakan data latih\n",
        "tree_model = tree_model.fit(X_train, y_train)\n",
        "\n",
        "# Evaluasi Model\n",
        "from sklearn.metrics import accuracy_score\n",
        "\n",
        "y_pred = tree_model.predict(X_test)\n",
        "\n",
        "acc_secore = round(accuracy_score(y_pred, y_test), 3)\n",
        "\n",
        "print('Accuracy: ', acc_secore)\n",
        "\n",
        "tree_model.predict(pd.DataFrame([[6.2, 3.4, 5.4, 2.3]], columns=X.columns))[0]\n",
        "\n",
        "from sklearn.tree import export_graphviz\n",
        "export_graphviz(\n",
        "    tree_model,\n",
        "    out_file = \"iris_tree.dot\",\n",
        "    feature_names = ['SepalLengthCm', 'SepalWidthCm', 'PetalLengthCm', 'PetalWidthCm'],\n",
        "    class_names = ['Iris-setosa', 'Iris-versicolor', 'Iris-virginica' ],\n",
        "    rounded= True,\n",
        "    filled =True)\n",
        "\n"
      ]
    },
    {
      "cell_type": "markdown",
      "source": [
        "##Linear Regression"
      ],
      "metadata": {
        "id": "lDHw4AGBWFJz"
      }
    },
    {
      "cell_type": "code",
      "source": [
        "import numpy as np\n",
        "\n",
        "#buat data jumlah kamar\n",
        "bedrooms = np.array([1,1,2,2,3,4,4,5,5,5])\n",
        "\n",
        "#data harga rumah. asumsi dalam dollar\n",
        "house_price = np.array([15000, 18000, 27000, 34000, 50000, 68000, 65000, 81000,85000, 90000])\n",
        "# menampilkan scatter plot dari dataset\n",
        "import matplotlib.pyplot as plt\n",
        "%matplotlib inline\n",
        "\n",
        "plt.scatter(bedrooms, house_price)\n",
        "from sklearn.linear_model import LinearRegression\n",
        "\n",
        "# latih model dengan Linear Regression.fit()\n",
        "bedrooms = bedrooms.reshape(-1, 1)\n",
        "linreg = LinearRegression()\n",
        "linreg.fit(bedrooms, house_price)\n",
        "\n",
        "# menampilkan plot hubungan antara jumlah kamar dengan harga rumah\n",
        "plt.scatter(bedrooms, house_price)\n",
        "plt.plot(bedrooms, linreg.predict(bedrooms))\n",
        "\n",
        "# Data testing\n",
        "# Jumlah kamar yang ingin diprediksi harganya\n",
        "X_test = np.array([[6], [7]])\n",
        "\n",
        "# Melakukan prediksi harga kamar\n",
        "y_pred = linreg.predict(X_test)\n",
        "\n",
        "# Menampilkan hasil prediksi\n",
        "for i in range(len(X_test)):\n",
        "    print(\"Jumlah kamar:\", X_test[i][0])\n",
        "    print(\"Prediksi harga kamar:\", y_pred[i])\n",
        "    print()\n",
        "\n",
        "# uji akurasi model\n",
        "linreg.score(X_test, y_pred)\n",
        "\n"
      ],
      "metadata": {
        "colab": {
          "base_uri": "https://localhost:8080/",
          "height": 556
        },
        "id": "PErG3k08Wgi6",
        "outputId": "7c526dde-3e28-4368-a3ec-2da8acf0adf6"
      },
      "execution_count": 4,
      "outputs": [
        {
          "output_type": "stream",
          "name": "stdout",
          "text": [
            "Jumlah kamar: 6\n",
            "Prediksi harga kamar: 102110.16949152542\n",
            "\n",
            "Jumlah kamar: 7\n",
            "Prediksi harga kamar: 119542.37288135593\n",
            "\n"
          ]
        },
        {
          "output_type": "execute_result",
          "data": {
            "text/plain": [
              "1.0"
            ]
          },
          "metadata": {},
          "execution_count": 4
        },
        {
          "output_type": "display_data",
          "data": {
            "text/plain": [
              "<Figure size 640x480 with 1 Axes>"
            ],
            "image/png": "[encoded data removed]"
          },
          "metadata": {}
        }
      ]
    },
    {
      "cell_type": "markdown",
      "source": [
        "##Logistic Regression"
      ],
      "metadata": {
        "id": "QBniyPYnYkUU"
      }
    },
    {
      "cell_type": "code",
      "source": [
        "import pandas as pd\n",
        "\n",
        "# membaca dataset dan mengubahnya menjadi dataframe\n",
        "df = pd.read_csv('Social_Network_Ads.csv')\n",
        "df.head()\n",
        "df.info()\n",
        "# drop kolom yang tidak diperlukan\n",
        "data = df.drop(columns=['User ID'])\n",
        "\n",
        "# jalankan proses one-hot encoding dengan pd.get_dummies()\n",
        "data = pd.get_dummies(data)\n",
        "data\n",
        "# pisahkan atribut dan label\n",
        "predictions = ['Age' , 'EstimatedSalary' , 'Gender_Female' , 'Gender_Male']\n",
        "X = data[predictions]\n",
        "y = data['Purchased']\n",
        "\n",
        "# lakukan normalisasi terhadap data yang kita miliki\n",
        "from sklearn.preprocessing import StandardScaler\n",
        "scaler = StandardScaler()\n",
        "scaler.fit(X)\n",
        "scaled_data = scaler.transform(X)\n",
        "scaled_data = pd.DataFrame(scaled_data, columns= X.columns)\n",
        "scaled_data.head()\n",
        "from sklearn.model_selection import train_test_split\n",
        "\n",
        "# bagi data menjadi train dan test untuk setiap atribut dan label\n",
        "X_train, X_test, y_train, y_test = train_test_split(scaled_data, y, test_size=0.2, random_state=1)\n",
        "from sklearn import linear_model\n",
        "\n",
        "# latih model dengan fungsi fit\n",
        "model = linear_model.LogisticRegression()\n",
        "model.fit(X_train, y_train)\n",
        "# uji akurasi model\n",
        "model.score(X_test, y_test)\n"
      ],
      "metadata": {
        "colab": {
          "base_uri": "https://localhost:8080/"
        },
        "id": "T3tg4lsOYm5b",
        "outputId": "ba1b6612-8791-4c3c-e9c5-a29c65b120b0"
      },
      "execution_count": 5,
      "outputs": [
        {
          "output_type": "stream",
          "name": "stdout",
          "text": [
            "<class 'pandas.core.frame.DataFrame'>\n",
            "RangeIndex: 400 entries, 0 to 399\n",
            "Data columns (total 5 columns):\n",
            " #   Column           Non-Null Count  Dtype \n",
            "---  ------           --------------  ----- \n",
            " 0   User ID          400 non-null    int64 \n",
            " 1   Gender           400 non-null    object\n",
            " 2   Age              400 non-null    int64 \n",
            " 3   EstimatedSalary  400 non-null    int64 \n",
            " 4   Purchased        400 non-null    int64 \n",
            "dtypes: int64(4), object(1)\n",
            "memory usage: 15.8+ KB\n"
          ]
        },
        {
          "output_type": "execute_result",
          "data": {
            "text/plain": [
              "0.825"
            ]
          },
          "metadata": {},
          "execution_count": 5
        }
      ]
    },
    {
      "cell_type": "markdown",
      "source": [
        "##Tugas Praktikkum"
      ],
      "metadata": {
        "id": "0Wjnb5Kndq3E"
      }
    },
    {
      "cell_type": "markdown",
      "source": [
        "###Machine Learning: Klasifikasi & Regresi"
      ],
      "metadata": {
        "id": "bMbdjULNdtWc"
      }
    },
    {
      "cell_type": "markdown",
      "source": [
        "####1. Memprediksi Calon Konsumen Melakukan Transaksi atau Tidak"
      ],
      "metadata": {
        "id": "ynPEybdVdz-l"
      }
    },
    {
      "cell_type": "code",
      "source": [
        "import pandas as pd\n",
        "from sklearn.model_selection import train_test_split\n",
        "from sklearn.preprocessing import StandardScaler\n",
        "from sklearn.tree import DecisionTreeClassifier\n",
        "from sklearn.linear_model import LogisticRegression\n",
        "from sklearn.metrics import accuracy_score\n",
        "\n",
        "# Baca file CSV dengan delimiter \";\"\n",
        "df = pd.read_csv('iklan_sosmed.csv', sep=';')\n",
        "\n",
        "# Cek isi data\n",
        "print(df.head())\n",
        "\n",
        "# Drop kolom ID karena tidak dibutuhkan\n",
        "df = df.drop(columns=['ID'])\n",
        "\n",
        "# Ubah kolom kategorikal \"Jenis_Kelamin\" jadi numerik (one-hot encoding)\n",
        "df = pd.get_dummies(df, columns=['Jenis_Kelamin'], drop_first=True)\n",
        "\n",
        "# Pisahkan fitur (X) dan label (y)\n",
        "X = df.drop(columns='Transaksi')\n",
        "y = df['Transaksi']\n",
        "\n",
        "# Normalisasi fitur numerik\n",
        "scaler = StandardScaler()\n",
        "X_scaled = scaler.fit_transform(X)\n",
        "\n",
        "# Bagi data jadi data latih dan data uji\n",
        "X_train, X_test, y_train, y_test = train_test_split(X_scaled, y, test_size=0.2, random_state=42)\n",
        "\n",
        "# ========================\n",
        "# Decision Tree Classifier\n",
        "# ========================\n",
        "tree_model = DecisionTreeClassifier(random_state=42)\n",
        "tree_model.fit(X_train, y_train)\n",
        "tree_preds = tree_model.predict(X_test)\n",
        "tree_acc = accuracy_score(y_test, tree_preds)\n",
        "\n",
        "# ========================\n",
        "# Logistic Regression\n",
        "# ========================\n",
        "log_model = LogisticRegression(random_state=42)\n",
        "log_model.fit(X_train, y_train)\n",
        "log_preds = log_model.predict(X_test)\n",
        "log_acc = accuracy_score(y_test, log_preds)\n",
        "\n",
        "# Tampilkan hasil akurasi\n",
        "print(f\"Akurasi Decision Tree       : {tree_acc:.3f}\")\n",
        "print(f\"Akurasi Logistic Regression : {log_acc:.3f}\")\n"
      ],
      "metadata": {
        "colab": {
          "base_uri": "https://localhost:8080/"
        },
        "id": "L7_9_u1idqne",
        "outputId": "957d441d-6a98-4563-8975-602cf482c183"
      },
      "execution_count": 7,
      "outputs": [
        {
          "output_type": "stream",
          "name": "stdout",
          "text": [
            "         ID Jenis_Kelamin  Umur        Gaji  Transaksi\n",
            "0  15624510          Pria    19   285000000          0\n",
            "1  15810944          Pria    35   300000000          0\n",
            "2  15668575        Wanita    26   645000000          0\n",
            "3  15603246        Wanita    27   855000000          0\n",
            "4  15804002          Pria    19  1140000000          0\n",
            "Akurasi Decision Tree       : 0.825\n",
            "Akurasi Logistic Regression : 0.887\n"
          ]
        }
      ]
    },
    {
      "cell_type": "markdown",
      "source": [
        "####2. Memprediksi Gaji Pegawai Berdasarkan Masa Kerja"
      ],
      "metadata": {
        "id": "QqLLPc3xkOxh"
      }
    },
    {
      "cell_type": "code",
      "source": [
        "from sklearn.linear_model import LinearRegression\n",
        "import matplotlib.pyplot as plt\n",
        "\n",
        "# Load dataset dengan delimiter \";\"\n",
        "df_gaji = pd.read_csv('Data_Gaji.csv', sep=';')\n",
        "\n",
        "# Fitur dan label\n",
        "X = df_gaji[['Tahun_Pengalaman']]\n",
        "y = df_gaji['Gaji']\n",
        "\n",
        "# Buat model dan latih\n",
        "model = LinearRegression()\n",
        "model.fit(X, y)\n",
        "\n",
        "# Visualisasi\n",
        "plt.scatter(X, y, color='blue')\n",
        "plt.plot(X, model.predict(X), color='red')\n",
        "plt.title('Prediksi Gaji Pegawai')\n",
        "plt.xlabel('Tahun Pengalaman')\n",
        "plt.ylabel('Gaji')\n",
        "plt.show()\n"
      ],
      "metadata": {
        "colab": {
          "base_uri": "https://localhost:8080/",
          "height": 472
        },
        "id": "YZIkXkHakQeX",
        "outputId": "ba74862f-df1d-41ef-d4de-f6f296e214ba"
      },
      "execution_count": 8,
      "outputs": [
        {
          "output_type": "display_data",
          "data": {
            "text/plain": [
              "<Figure size 640x480 with 1 Axes>"
            ],
            "image/png": "[encoded data removed]"
          },
          "metadata": {}
        }
      ]
    },
    {
      "cell_type": "markdown",
      "source": [
        "####4. Parameter Tuning untuk Meningkatkan Akurasi"
      ],
      "metadata": {
        "id": "H6nqHqQel08Y"
      }
    },
    {
      "cell_type": "markdown",
      "source": [
        "##### Decision Tree"
      ],
      "metadata": {
        "id": "-pyuO_aal2Tg"
      }
    },
    {
      "cell_type": "code",
      "source": [
        "from sklearn.model_selection import GridSearchCV\n",
        "\n",
        "params_tree = {\n",
        "    'max_depth': [2, 3, 4, 5, 6],\n",
        "    'criterion': ['gini', 'entropy']\n",
        "}\n",
        "\n",
        "grid_tree = GridSearchCV(DecisionTreeClassifier(random_state=42), params_tree, cv=5)\n",
        "grid_tree.fit(X_train, y_train)\n",
        "\n",
        "print(\"Best Tree Accuracy:\", grid_tree.best_score_)\n",
        "print(\"Best Tree Params:\", grid_tree.best_params_)\n"
      ],
      "metadata": {
        "colab": {
          "base_uri": "https://localhost:8080/"
        },
        "id": "uL7LbLiwl0Xy",
        "outputId": "220863ff-0659-4511-9cc3-cb3e1c101e6a"
      },
      "execution_count": 9,
      "outputs": [
        {
          "output_type": "stream",
          "name": "stdout",
          "text": [
            "Best Tree Accuracy: 0.903125\n",
            "Best Tree Params: {'criterion': 'entropy', 'max_depth': 4}\n"
          ]
        }
      ]
    },
    {
      "cell_type": "markdown",
      "source": [
        "#####Logistic Regression"
      ],
      "metadata": {
        "id": "Xq-K32p5l_gg"
      }
    },
    {
      "cell_type": "code",
      "source": [
        "params_log = {\n",
        "    'C': [0.01, 0.1, 1, 10],\n",
        "    'solver': ['liblinear', 'lbfgs']\n",
        "}\n",
        "\n",
        "grid_log = GridSearchCV(LogisticRegression(random_state=42), params_log, cv=5)\n",
        "grid_log.fit(X_train, y_train)\n",
        "\n",
        "print(\"Best Logistic Accuracy:\", grid_log.best_score_)\n",
        "print(\"Best Logistic Params:\", grid_log.best_params_)\n"
      ],
      "metadata": {
        "colab": {
          "base_uri": "https://localhost:8080/"
        },
        "id": "vdiFhGn5nHnR",
        "outputId": "50753faf-9c0c-44b7-c39f-12fb56f6a527"
      },
      "execution_count": 11,
      "outputs": [
        {
          "output_type": "stream",
          "name": "stdout",
          "text": [
            "Best Logistic Accuracy: 0.815625\n",
            "Best Logistic Params: {'C': 0.01, 'solver': 'liblinear'}\n"
          ]
        }
      ]
    }
  ]
}